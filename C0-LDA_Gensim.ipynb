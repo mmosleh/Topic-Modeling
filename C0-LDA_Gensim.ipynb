{
 "cells": [
  {
   "cell_type": "markdown",
   "metadata": {},
   "source": [
    "# Training Topic Model (LDA) on the Airbnb Comments"
   ]
  },
  {
   "cell_type": "code",
   "execution_count": 1,
   "metadata": {
    "collapsed": true
   },
   "outputs": [],
   "source": [
    "\n",
    "# import and setup modules we'll be using in this notebook\n",
    "import logging\n",
    "import itertools\n",
    "import pandas as pd\n",
    "import numpy as np\n",
    "import gensim\n",
    "import sys\n",
    "reload(sys)\n",
    "import cPickle\n",
    "import re\n",
    "sys.setdefaultencoding('utf8')\n",
    "logging.basicConfig(format='%(levelname)s : %(message)s', level=logging.INFO)\n",
    "logging.root.level = logging.INFO  # ipython sometimes messes up the logging setup; restore"
   ]
  },
  {
   "cell_type": "code",
   "execution_count": 2,
   "metadata": {
    "collapsed": true
   },
   "outputs": [],
   "source": [
    "from gensim.utils import smart_open, simple_preprocess\n",
    "from gensim.corpora.wikicorpus import _extract_pages, filter_wiki\n",
    "from gensim.parsing.preprocessing import STOPWORDS\n",
    "\n",
    "def tokenize(text):\n",
    "    return [token for token in simple_preprocess(text) if token.lower() not in STOPWORDS]\n",
    "\n",
    "def iter_token(id_,comment):\n",
    "    \"\"\"Yield each article from the Wikipedia dump, as a `(title, tokens)` 2-tuple.\"\"\"\n",
    "  #  ignore_namespaces = 'Wikipedia Category File Portal Template MediaWiki User Help Book Draft'.split()\n",
    "    for id_,comment in zip(id_,comment):\n",
    "        tokens=tokenize(comment)\n",
    "       # if len(tokens) < 50 :\n",
    "        #    continue  # ignore short articles and various meta-articles\n",
    "        yield id_, tokens\n",
    "def person_remover(comment,person):\n",
    "    return comment.replace(person,'')    "
   ]
  },
  {
   "cell_type": "markdown",
   "metadata": {},
   "source": [
    "# Reading in data"
   ]
  },
  {
   "cell_type": "code",
   "execution_count": 3,
   "metadata": {
    "collapsed": false
   },
   "outputs": [
    {
     "data": {
      "text/plain": [
       "27247"
      ]
     },
     "execution_count": 3,
     "metadata": {},
     "output_type": "execute_result"
    }
   ],
   "source": [
    "col_to_read = ['listing_id','id','lan']\n",
    "df_all_reviews= pd.read_csv('../DataFiles/merged_reviews_withCitiesLan.csv',usecols=col_to_read)\n",
    "\n",
    "df_person = pd.read_csv('../DataFiles/sentences_withPersonName_NYC_.csv',header=None,sep='\\t')\n",
    "df_person.columns=['no','year','city','id','person','comment']\n",
    "\n",
    "df_person=df_person.dropna()\n",
    "df_person.year=df_person.year.astype(int)\n",
    "df_person.id=df_person.id.astype(int)\n",
    "df=pd.merge(df_person,df_all_reviews,on='id',how='left')\n",
    "df=df[df.lan=='en']\n",
    "df.listing_id.nunique()"
   ]
  },
  {
   "cell_type": "code",
   "execution_count": 4,
   "metadata": {
    "collapsed": false
   },
   "outputs": [],
   "source": [
    "df['comment'] = df.apply(lambda row: person_remover(row['comment'], row['person']), axis=1)\n",
    "\n",
    "df_text=df.groupby(['listing_id','year'])['comment'].apply(lambda x: '.'.join(x)).reset_index()\n",
    "df_text=df_text.sort_values(['listing_id','year'], ascending=True)\n",
    "\n",
    "\n"
   ]
  },
  {
   "cell_type": "code",
   "execution_count": 5,
   "metadata": {
    "collapsed": false
   },
   "outputs": [],
   "source": [
    "#df_text=df_text[df_text.year>2009]\n",
    "#df_=pd.DataFrame(df_text.groupby(['listing_id']).year.count())\n",
    "#indices=df_[df_.year==7].index.tolist()\n",
    "#df_text=df_text[df_text['listing_id'].isin(indices)]"
   ]
  },
  {
   "cell_type": "code",
   "execution_count": 6,
   "metadata": {
    "collapsed": true
   },
   "outputs": [],
   "source": [
    "df_text.to_csv('../DataFiles/sentences_withPersonName_NYC_listing.csv')"
   ]
  },
  {
   "cell_type": "code",
   "execution_count": 8,
   "metadata": {
    "collapsed": false
   },
   "outputs": [],
   "source": [
    "df_text=pd.read_csv('../DataFiles/sentences_withPersonName_NYC_listing.csv')"
   ]
  },
  {
   "cell_type": "markdown",
   "metadata": {},
   "source": [
    "# Tokenizing documents"
   ]
  },
  {
   "cell_type": "code",
   "execution_count": 37,
   "metadata": {
    "collapsed": false
   },
   "outputs": [],
   "source": [
    "# Tokenize the documents.\n",
    "\n",
    "from nltk.tokenize import RegexpTokenizer\n",
    "\n",
    "# Split the documents into tokens.\n",
    "tokenizer = RegexpTokenizer(r'\\w+')\n",
    "\n",
    "docs = list(df_text.dropna().comment)\n",
    "for idx in range(len(docs)):\n",
    "    if len(str(docs[idx]))<3:\n",
    "        continue\n",
    "    docs[idx]=re.sub(r'[^\\x00-\\x7F]+',' ', docs[idx])\n",
    "    docs[idx] = docs[idx].lower()# Convert to lowercase.\n",
    "    docs[idx] =tokenize(docs[idx])  # Split into words.\n",
    "\n",
    "# Remove numbers, but not words that contain numbers.\n",
    "#docs = [[token for token in doc if not token.isdigit()] for doc in docs]\n",
    "\n",
    "\n",
    "# Remove words that are only one character.\n",
    "docs = [[token for token in doc if len(token) > 1] for doc in docs]"
   ]
  },
  {
   "cell_type": "code",
   "execution_count": 38,
   "metadata": {
    "collapsed": false
   },
   "outputs": [],
   "source": [
    "from nltk.stem.wordnet import WordNetLemmatizer\n",
    "\n",
    "\n",
    "            \n",
    "# Lemmatize all words in documents.\n",
    "lemmatizer = WordNetLemmatizer()\n",
    "docs = [[lemmatizer.lemmatize(token) for token in doc] for doc in docs]"
   ]
  },
  {
   "cell_type": "code",
   "execution_count": 39,
   "metadata": {
    "collapsed": true
   },
   "outputs": [],
   "source": [
    "# Compute bigrams.\n",
    "\n",
    "from gensim.models import Phrases\n",
    "\n",
    "# Add bigrams and trigrams to docs (only ones that appear 20 times or more).\n",
    "bigram = Phrases(docs, min_count=20)\n",
    "for idx in range(len(docs)):\n",
    "    for token in bigram[docs[idx]]:\n",
    "        if '_' in token:\n",
    "            # Token is a bigram, add to document.\n",
    "            docs[idx].append(token)"
   ]
  },
  {
   "cell_type": "code",
   "execution_count": 40,
   "metadata": {
    "collapsed": false
   },
   "outputs": [],
   "source": [
    "# Remove rare and common tokens.\n",
    "\n",
    "from gensim.corpora import Dictionary\n",
    "\n",
    "# Create a dictionary representation of the documents.\n",
    "dictionary = Dictionary(docs)\n",
    "\n",
    "# Filter out words that occur less than 20 documents, or more than 50% of the documents.\n",
    "dictionary.filter_extremes(no_below=20, no_above=0.5)\n",
    "dictionary.save('nyc_lda.dic')\n",
    "\n",
    "with open(r\"docs.pickle\", \"wb\") as output_file:\n",
    "    cPickle.dump(docs, output_file)"
   ]
  },
  {
   "cell_type": "markdown",
   "metadata": {},
   "source": [
    "# Vectorizing documents, and save the corpus"
   ]
  },
  {
   "cell_type": "code",
   "execution_count": 41,
   "metadata": {
    "collapsed": false
   },
   "outputs": [],
   "source": [
    "\n",
    "# Vectorize data.\n",
    "\n",
    "# Bag-of-words representation of the documents.\n",
    "corpus = [dictionary.doc2bow(doc) for doc in docs]\n",
    "\n",
    "with open(r\"corpus.pickle\", \"wb\") as output_file:\n",
    "    cPickle.dump(corpus, output_file)"
   ]
  },
  {
   "cell_type": "code",
   "execution_count": 42,
   "metadata": {
    "collapsed": true
   },
   "outputs": [],
   "source": [
    "print('Number of unique tokens: %d' % len(dictionary))\n",
    "print('Number of documents: %d' % len(corpus))"
   ]
  },
  {
   "cell_type": "markdown",
   "metadata": {},
   "source": [
    "# Train and Save the LDA model"
   ]
  },
  {
   "cell_type": "code",
   "execution_count": 43,
   "metadata": {
    "collapsed": false
   },
   "outputs": [],
   "source": [
    "# Train LDA model.\n",
    "\n",
    "from gensim.models import LdaModel\n",
    "\n",
    "# Set training parameters.\n",
    "num_topics = 10\n",
    "chunksize = 2000\n",
    "passes = 20\n",
    "iterations = 400\n",
    "eval_every = None  # Don't evaluate model perplexity, takes too much time.\n",
    "\n",
    "# Make a index to word dictionary.\n",
    "temp = dictionary[0]  # This is only to \"load\" the dictionary.\n",
    "id2word = dictionary.id2token\n",
    "\n",
    "%time model = LdaModel(corpus=corpus, id2word=id2word, chunksize=chunksize, \\\n",
    "                       alpha='auto', eta='auto', \\\n",
    "                       iterations=iterations, num_topics=num_topics, \\\n",
    "                       passes=passes, eval_every=eval_every)\n",
    "\n",
    "model.save('lda.pkl')"
   ]
  },
  {
   "cell_type": "markdown",
   "metadata": {},
   "source": [
    "# High frequent words in each topic"
   ]
  },
  {
   "cell_type": "code",
   "execution_count": 4,
   "metadata": {
    "collapsed": false
   },
   "outputs": [
    {
     "data": {
      "text/plain": [
       "[(0,\n",
       "  u'0.180*\"family\" + 0.121*\"husband\" + 0.037*\"son\" + 0.029*\"mother\" + 0.026*\"mom\" + 0.023*\"brooklyn\" + 0.022*\"daughter\" + 0.020*\"park\" + 0.017*\"hidden\" + 0.017*\"house\"'),\n",
       " (1,\n",
       "  u'0.236*\"new\" + 0.195*\"york\" + 0.194*\"new_york\" + 0.077*\"nyc\" + 0.030*\"village\" + 0.029*\"east\" + 0.017*\"west\" + 0.013*\"east_village\" + 0.011*\"upper\" + 0.009*\"west_village\"'),\n",
       " (2,\n",
       "  u'0.061*\"restaurant\" + 0.033*\"recommendation\" + 0.033*\"area\" + 0.027*\"local\" + 0.026*\"neighborhood\" + 0.025*\"bar\" + 0.019*\"shop\" + 0.018*\"brooklyn\" + 0.018*\"eat\" + 0.017*\"nearby\"'),\n",
       " (3,\n",
       "  u'0.026*\"arrived\" + 0.019*\"late\" + 0.017*\"day\" + 0.015*\"arrival\" + 0.013*\"met\" + 0.012*\"night\" + 0.012*\"let\" + 0.011*\"left\" + 0.010*\"provided\" + 0.010*\"got\"'),\n",
       " (4,\n",
       "  u'0.048*\"easy\" + 0.035*\"question\" + 0.033*\"check\" + 0.032*\"helpful\" + 0.032*\"responsive\" + 0.024*\"accommodating\" + 0.022*\"communication\" + 0.017*\"quick\" + 0.017*\"key\" + 0.015*\"available\"'),\n",
       " (5,\n",
       "  u'0.150*\"room\" + 0.092*\"nice\" + 0.048*\"roommate\" + 0.044*\"guy\" + 0.043*\"meet\" + 0.027*\"friendly\" + 0.023*\"cool\" + 0.023*\"chance\" + 0.021*\"bathroom\" + 0.018*\"living\"'),\n",
       " (6,\n",
       "  u'0.027*\"breakfast\" + 0.022*\"coffee\" + 0.021*\"morning\" + 0.010*\"house\" + 0.009*\"tea\" + 0.009*\"harlem\" + 0.009*\"delicious\" + 0.008*\"food\" + 0.007*\"kitchen\" + 0.007*\"mr\"'),\n",
       " (7,\n",
       "  u'0.027*\"nice\" + 0.024*\"helpful\" + 0.024*\"friendly\" + 0.024*\"time\" + 0.020*\"welcoming\" + 0.018*\"wonderful\" + 0.018*\"home\" + 0.017*\"staying\" + 0.017*\"recommend\" + 0.014*\"thank\"'),\n",
       " (8,\n",
       "  u'0.073*\"subway\" + 0.056*\"close\" + 0.033*\"walk\" + 0.029*\"station\" + 0.028*\"minute\" + 0.028*\"manhattan\" + 0.027*\"train\" + 0.027*\"located\" + 0.024*\"location\" + 0.023*\"block\"'),\n",
       " (9,\n",
       "  u'0.206*\"welcome\" + 0.190*\"feel_welcome\" + 0.166*\"feel\" + 0.061*\"loft\" + 0.035*\"notice\" + 0.024*\"short_notice\" + 0.023*\"short\" + 0.019*\"readily\" + 0.016*\"readily_available\" + 0.011*\"job_making\"')]"
      ]
     },
     "execution_count": 4,
     "metadata": {},
     "output_type": "execute_result"
    }
   ],
   "source": [
    "model = gensim.models.LdaModel.load('lda.pkl')\n",
    "#top_topics = model.top_topics(corpus, num_words=5)\n",
    "top_topics=model.show_topics()\n",
    "top_topics"
   ]
  },
  {
   "cell_type": "code",
   "execution_count": 2,
   "metadata": {
    "collapsed": false
   },
   "outputs": [
    {
     "data": {
      "text/html": [
       "<div>\n",
       "<table border=\"1\" class=\"dataframe\">\n",
       "  <thead>\n",
       "    <tr style=\"text-align: right;\">\n",
       "      <th></th>\n",
       "      <th>Topic0</th>\n",
       "      <th>Topic1</th>\n",
       "      <th>Topic2</th>\n",
       "      <th>Topic3</th>\n",
       "      <th>Topic4</th>\n",
       "      <th>Topic5</th>\n",
       "      <th>Topic6</th>\n",
       "      <th>Topic7</th>\n",
       "      <th>Topic8</th>\n",
       "      <th>Topic9</th>\n",
       "    </tr>\n",
       "  </thead>\n",
       "  <tbody>\n",
       "    <tr>\n",
       "      <th>0</th>\n",
       "      <td>\"mother\"</td>\n",
       "      <td>\"new\"</td>\n",
       "      <td>\"recommendation\"</td>\n",
       "      <td>\"let\"</td>\n",
       "      <td>\"available\"</td>\n",
       "      <td>\"cool\"</td>\n",
       "      <td>\"harlem\"</td>\n",
       "      <td>\"helpful\"</td>\n",
       "      <td>\"walk\"</td>\n",
       "      <td>\"readily_available\"</td>\n",
       "    </tr>\n",
       "    <tr>\n",
       "      <th>1</th>\n",
       "      <td>\"brooklyn\"</td>\n",
       "      <td>\"nyc\"</td>\n",
       "      <td>\"brooklyn\"</td>\n",
       "      <td>\"arrived\"</td>\n",
       "      <td>\"question\"</td>\n",
       "      <td>\"meet\"</td>\n",
       "      <td>\"food\"</td>\n",
       "      <td>\"home\"</td>\n",
       "      <td>\"manhattan\"</td>\n",
       "      <td>\"notice\"</td>\n",
       "    </tr>\n",
       "    <tr>\n",
       "      <th>2</th>\n",
       "      <td>\"mom\"</td>\n",
       "      <td>\"york\"</td>\n",
       "      <td>\"nearby\"</td>\n",
       "      <td>\"night\"</td>\n",
       "      <td>\"quick\"</td>\n",
       "      <td>\"roommate\"</td>\n",
       "      <td>\"morning\"</td>\n",
       "      <td>\"wonderful\"</td>\n",
       "      <td>\"station\"</td>\n",
       "      <td>\"welcome\"</td>\n",
       "    </tr>\n",
       "    <tr>\n",
       "      <th>3</th>\n",
       "      <td>\"park\"</td>\n",
       "      <td>\"west\"</td>\n",
       "      <td>\"neighborhood\"</td>\n",
       "      <td>\"late\"</td>\n",
       "      <td>\"helpful\"</td>\n",
       "      <td>\"chance\"</td>\n",
       "      <td>\"coffee\"</td>\n",
       "      <td>\"thank\"</td>\n",
       "      <td>\"block\"</td>\n",
       "      <td>\"job_making\"</td>\n",
       "    </tr>\n",
       "    <tr>\n",
       "      <th>4</th>\n",
       "      <td>\"family\"</td>\n",
       "      <td>\"west_village\"</td>\n",
       "      <td>\"bar\"</td>\n",
       "      <td>\"arrival\"</td>\n",
       "      <td>\"accommodating\"</td>\n",
       "      <td>\"nice\"</td>\n",
       "      <td>\"breakfast\"</td>\n",
       "      <td>\"time\"</td>\n",
       "      <td>\"minute\"</td>\n",
       "      <td>\"loft\"</td>\n",
       "    </tr>\n",
       "    <tr>\n",
       "      <th>5</th>\n",
       "      <td>\"daughter\"</td>\n",
       "      <td>\"new_york\"</td>\n",
       "      <td>\"area\"</td>\n",
       "      <td>\"day\"</td>\n",
       "      <td>\"check\"</td>\n",
       "      <td>\"living\"</td>\n",
       "      <td>\"house\"</td>\n",
       "      <td>\"welcoming\"</td>\n",
       "      <td>\"subway\"</td>\n",
       "      <td>\"short\"</td>\n",
       "    </tr>\n",
       "    <tr>\n",
       "      <th>6</th>\n",
       "      <td>\"son\"</td>\n",
       "      <td>\"east\"</td>\n",
       "      <td>\"local\"</td>\n",
       "      <td>\"got\"</td>\n",
       "      <td>\"responsive\"</td>\n",
       "      <td>\"bathroom\"</td>\n",
       "      <td>\"tea\"</td>\n",
       "      <td>\"nice\"</td>\n",
       "      <td>\"train\"</td>\n",
       "      <td>\"feel_welcome\"</td>\n",
       "    </tr>\n",
       "    <tr>\n",
       "      <th>7</th>\n",
       "      <td>\"house\"</td>\n",
       "      <td>\"village\"</td>\n",
       "      <td>\"restaurant\"</td>\n",
       "      <td>\"met\"</td>\n",
       "      <td>\"easy\"</td>\n",
       "      <td>\"friendly\"</td>\n",
       "      <td>\"mr\"</td>\n",
       "      <td>\"recommend\"</td>\n",
       "      <td>\"located\"</td>\n",
       "      <td>\"readily\"</td>\n",
       "    </tr>\n",
       "    <tr>\n",
       "      <th>8</th>\n",
       "      <td>\"husband\"</td>\n",
       "      <td>\"east_village\"</td>\n",
       "      <td>\"eat\"</td>\n",
       "      <td>\"left\"</td>\n",
       "      <td>\"key\"</td>\n",
       "      <td>\"room\"</td>\n",
       "      <td>\"kitchen\"</td>\n",
       "      <td>\"staying\"</td>\n",
       "      <td>\"location\"</td>\n",
       "      <td>\"feel\"</td>\n",
       "    </tr>\n",
       "    <tr>\n",
       "      <th>9</th>\n",
       "      <td>\"hidden\"</td>\n",
       "      <td>\"upper\"</td>\n",
       "      <td>\"shop\"</td>\n",
       "      <td>\"provided\"</td>\n",
       "      <td>\"communication\"</td>\n",
       "      <td>\"guy\"</td>\n",
       "      <td>\"delicious\"</td>\n",
       "      <td>\"friendly\"</td>\n",
       "      <td>\"close\"</td>\n",
       "      <td>\"short_notice\"</td>\n",
       "    </tr>\n",
       "  </tbody>\n",
       "</table>\n",
       "</div>"
      ],
      "text/plain": [
       "        Topic0           Topic1             Topic2       Topic3  \\\n",
       "0    \"mother\"            \"new\"   \"recommendation\"        \"let\"    \n",
       "1  \"brooklyn\"            \"nyc\"         \"brooklyn\"    \"arrived\"    \n",
       "2       \"mom\"           \"york\"            \"nearby\"     \"night\"    \n",
       "3      \"park\"           \"west\"     \"neighborhood\"       \"late\"    \n",
       "4    \"family\"    \"west_village\"             \"bar\"    \"arrival\"    \n",
       "5  \"daughter\"       \"new_york\"             \"area\"        \"day\"    \n",
       "6       \"son\"           \"east\"            \"local\"         \"got\"   \n",
       "7      \"house\"       \"village\"       \"restaurant\"        \"met\"    \n",
       "8   \"husband\"   \"east_village\"              \"eat\"       \"left\"    \n",
       "9    \"hidden\"          \"upper\"             \"shop\"   \"provided\"    \n",
       "\n",
       "             Topic4       Topic5        Topic6        Topic7        Topic8  \\\n",
       "0       \"available\"      \"cool\"      \"harlem\"     \"helpful\"        \"walk\"    \n",
       "1       \"question\"       \"meet\"        \"food\"        \"home\"   \"manhattan\"    \n",
       "2          \"quick\"   \"roommate\"     \"morning\"   \"wonderful\"     \"station\"    \n",
       "3        \"helpful\"     \"chance\"      \"coffee\"        \"thank\"       \"block\"   \n",
       "4  \"accommodating\"       \"nice\"   \"breakfast\"        \"time\"      \"minute\"    \n",
       "5          \"check\"      \"living\"      \"house\"   \"welcoming\"      \"subway\"    \n",
       "6     \"responsive\"   \"bathroom\"         \"tea\"        \"nice\"       \"train\"    \n",
       "7           \"easy\"   \"friendly\"           \"mr\"  \"recommend\"     \"located\"    \n",
       "8            \"key\"       \"room\"     \"kitchen\"     \"staying\"    \"location\"    \n",
       "9  \"communication\"        \"guy\"   \"delicious\"    \"friendly\"       \"close\"    \n",
       "\n",
       "                 Topic9  \n",
       "0  \"readily_available\"   \n",
       "1             \"notice\"   \n",
       "2            \"welcome\"   \n",
       "3          \"job_making\"  \n",
       "4               \"loft\"   \n",
       "5              \"short\"   \n",
       "6       \"feel_welcome\"   \n",
       "7            \"readily\"   \n",
       "8               \"feel\"   \n",
       "9       \"short_notice\"   "
      ]
     },
     "execution_count": 2,
     "metadata": {},
     "output_type": "execute_result"
    }
   ],
   "source": [
    "model = gensim.models.LdaModel.load('lda.pkl')\n",
    "#top_topics = model.top_topics(corpus, num_words=5)\n",
    "top_topics=model.show_topics()\n",
    "# Average topic coherence is the sum of topic coherences of all topics, divided by the number of topics.\n",
    "#avg_topic_coherence = sum([t[1] for t in top_topics]) / num_topics\n",
    "#print('Average topic coherence: %.4f.' % avg_topic_coherence)\n",
    "\n",
    "topics=[]\n",
    "top_topics=model.show_topics()\n",
    "for t in top_topics:\n",
    "    topic={}\n",
    "    for chunk in t[1].split('+'):\n",
    "        topic[chunk.split('*')[1].strip(\"'\")] = float(chunk.split('*')[0])\n",
    "    topics.append(topic)\n",
    "    \n",
    "from pprint import pprint\n",
    "#pprint(top_topics)\n",
    "df_list=[]\n",
    "\n",
    "for topic in topics:\n",
    "\n",
    "    df_= pd.DataFrame([(str(k),v) for k,v in topic.iteritems() ])\n",
    "    df_.sort_values([1], ascending=False)\n",
    "    \n",
    "    df_list.append( df_[0])\n",
    "\n",
    "df = pd.concat(df_list, axis = 1)\n",
    "df.columns=[ [ 'Topic'+str(i) for i in range(len(df_list))]]\n",
    "df"
   ]
  },
  {
   "cell_type": "code",
   "execution_count": 3,
   "metadata": {
    "collapsed": false
   },
   "outputs": [
    {
     "ename": "NameError",
     "evalue": "name 'corpus' is not defined",
     "output_type": "error",
     "traceback": [
      "\u001b[0;31m---------------------------------------------------------------------------\u001b[0m",
      "\u001b[0;31mNameError\u001b[0m                                 Traceback (most recent call last)",
      "\u001b[0;32m<ipython-input-3-3cdb1cf01062>\u001b[0m in \u001b[0;36m<module>\u001b[0;34m()\u001b[0m\n\u001b[0;32m----> 1\u001b[0;31m \u001b[0mmodel\u001b[0m\u001b[0;34m.\u001b[0m\u001b[0mget_document_topics\u001b[0m\u001b[0;34m(\u001b[0m\u001b[0mcorpus\u001b[0m\u001b[0;34m[\u001b[0m\u001b[0;36m0\u001b[0m\u001b[0;34m]\u001b[0m\u001b[0;34m)\u001b[0m\u001b[0;34m\u001b[0m\u001b[0m\n\u001b[0m",
      "\u001b[0;31mNameError\u001b[0m: name 'corpus' is not defined"
     ]
    }
   ],
   "source": [
    "model.get_document_topics(corpus[0])"
   ]
  },
  {
   "cell_type": "code",
   "execution_count": null,
   "metadata": {
    "collapsed": true
   },
   "outputs": [],
   "source": []
  }
 ],
 "metadata": {
  "kernelspec": {
   "display_name": "Python 2",
   "language": "python",
   "name": "python2"
  },
  "language_info": {
   "codemirror_mode": {
    "name": "ipython",
    "version": 2
   },
   "file_extension": ".py",
   "mimetype": "text/x-python",
   "name": "python",
   "nbconvert_exporter": "python",
   "pygments_lexer": "ipython2",
   "version": "2.7.10"
  }
 },
 "nbformat": 4,
 "nbformat_minor": 2
}
