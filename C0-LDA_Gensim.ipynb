{
 "cells": [
  {
   "cell_type": "markdown",
   "metadata": {},
   "source": [
    "# Training Topic Model (LDA) on the Airbnb Comments"
   ]
  },
  {
   "cell_type": "code",
   "execution_count": 103,
   "metadata": {
    "collapsed": true
   },
   "outputs": [],
   "source": [
    "\n",
    "# import and setup modules we'll be using in this notebook\n",
    "import logging\n",
    "import itertools\n",
    "import pandas as pd\n",
    "import numpy as np\n",
    "import gensim\n",
    "import sys\n",
    "reload(sys)\n",
    "import cPickle\n",
    "import re\n",
    "sys.setdefaultencoding('utf8')\n",
    "logging.basicConfig(format='%(levelname)s : %(message)s', level=logging.INFO)\n",
    "logging.root.level = logging.INFO  # ipython sometimes messes up the logging setup; restore"
   ]
  },
  {
   "cell_type": "code",
   "execution_count": 104,
   "metadata": {
    "collapsed": true
   },
   "outputs": [],
   "source": [
    "from gensim.utils import smart_open, simple_preprocess\n",
    "from gensim.corpora.wikicorpus import _extract_pages, filter_wiki\n",
    "from gensim.parsing.preprocessing import STOPWORDS\n",
    "\n",
    "def tokenize(text):\n",
    "    return [token for token in simple_preprocess(text) if token.lower() not in STOPWORDS]\n",
    "\n",
    "def iter_token(id_,comment):\n",
    "    \"\"\"Yield each article from the Wikipedia dump, as a `(title, tokens)` 2-tuple.\"\"\"\n",
    "  #  ignore_namespaces = 'Wikipedia Category File Portal Template MediaWiki User Help Book Draft'.split()\n",
    "    for id_,comment in zip(id_,comment):\n",
    "        tokens=tokenize(comment)\n",
    "       # if len(tokens) < 50 :\n",
    "        #    continue  # ignore short articles and various meta-articles\n",
    "        yield id_, tokens\n",
    "def person_remover(comment,person):\n",
    "    return comment.replace(person,'')    "
   ]
  },
  {
   "cell_type": "markdown",
   "metadata": {},
   "source": [
    "# Reading in data"
   ]
  },
  {
   "cell_type": "code",
   "execution_count": 105,
   "metadata": {
    "collapsed": false
   },
   "outputs": [
    {
     "data": {
      "text/plain": [
       "27247"
      ]
     },
     "execution_count": 105,
     "metadata": {},
     "output_type": "execute_result"
    }
   ],
   "source": [
    "col_to_read = ['listing_id','id','lan']\n",
    "df_all_reviews= pd.read_csv('../DataFiles/merged_reviews_withCitiesLan.csv',usecols=col_to_read)\n",
    "\n",
    "df_person = pd.read_csv('../DataFiles/sentences_withPersonName_NYC_.csv',header=None,sep='\\t')\n",
    "df_person.columns=['no','year','city','id','person','comment']\n",
    "\n",
    "df_person=df_person.dropna()\n",
    "df_person.year=df_person.year.astype(int)\n",
    "df_person.id=df_person.id.astype(int)\n",
    "df=pd.merge(df_person,df_all_reviews,on='id',how='left')\n",
    "df=df[df.lan=='en']\n",
    "df.listing_id.nunique()"
   ]
  },
  {
   "cell_type": "code",
   "execution_count": 106,
   "metadata": {
    "collapsed": false
   },
   "outputs": [],
   "source": [
    "df['comment'] = df.apply(lambda row: person_remover(row['comment'], row['person']), axis=1)\n",
    "\n",
    "df_text=df.groupby(['listing_id','year'])['comment'].apply(lambda x: '.'.join(x)).reset_index()\n",
    "df_text=df_text.sort_values(['listing_id','year'], ascending=True)\n",
    "\n",
    "\n"
   ]
  },
  {
   "cell_type": "code",
   "execution_count": 107,
   "metadata": {
    "collapsed": false
   },
   "outputs": [],
   "source": [
    "#df_text=df_text[df_text.year>2009]\n",
    "#df_=pd.DataFrame(df_text.groupby(['listing_id']).year.count())\n",
    "#indices=df_[df_.year==7].index.tolist()\n",
    "#df_text=df_text[df_text['listing_id'].isin(indices)]"
   ]
  },
  {
   "cell_type": "code",
   "execution_count": 108,
   "metadata": {
    "collapsed": true
   },
   "outputs": [],
   "source": [
    "df_text.to_csv('../DataFiles/sentences_withPersonName_NYC_listing.csv')"
   ]
  },
  {
   "cell_type": "markdown",
   "metadata": {},
   "source": [
    "# Tokenizing documents"
   ]
  },
  {
   "cell_type": "code",
   "execution_count": 109,
   "metadata": {
    "collapsed": false
   },
   "outputs": [],
   "source": [
    "# Tokenize the documents.\n",
    "\n",
    "from nltk.tokenize import RegexpTokenizer\n",
    "\n",
    "# Split the documents into tokens.\n",
    "tokenizer = RegexpTokenizer(r'\\w+')\n",
    "docs = list(df_text.comment)\n",
    "for idx in range(len(df_text.comment)):\n",
    "    docs[idx]=re.sub(r'[^\\x00-\\x7F]+',' ', docs[idx])\n",
    "    docs[idx] = docs[idx].lower()# Convert to lowercase.\n",
    "    docs[idx] =tokenize(docs[idx])  # Split into words.\n",
    "\n",
    "# Remove numbers, but not words that contain numbers.\n",
    "docs = [[token for token in doc if not token.isnumeric()] for doc in docs]\n",
    "\n",
    "\n",
    "# Remove words that are only one character.\n",
    "docs = [[token for token in doc if len(token) > 1] for doc in docs]"
   ]
  },
  {
   "cell_type": "code",
   "execution_count": 110,
   "metadata": {
    "collapsed": false
   },
   "outputs": [],
   "source": [
    "from nltk.stem.wordnet import WordNetLemmatizer\n",
    "\n",
    "\n",
    "            \n",
    "# Lemmatize all words in documents.\n",
    "lemmatizer = WordNetLemmatizer()\n",
    "docs = [[lemmatizer.lemmatize(token) for token in doc] for doc in docs]"
   ]
  },
  {
   "cell_type": "code",
   "execution_count": 111,
   "metadata": {
    "collapsed": true
   },
   "outputs": [],
   "source": [
    "# Compute bigrams.\n",
    "\n",
    "from gensim.models import Phrases\n",
    "\n",
    "# Add bigrams and trigrams to docs (only ones that appear 20 times or more).\n",
    "bigram = Phrases(docs, min_count=20)\n",
    "for idx in range(len(docs)):\n",
    "    for token in bigram[docs[idx]]:\n",
    "        if '_' in token:\n",
    "            # Token is a bigram, add to document.\n",
    "            docs[idx].append(token)"
   ]
  },
  {
   "cell_type": "code",
   "execution_count": 112,
   "metadata": {
    "collapsed": false
   },
   "outputs": [],
   "source": [
    "# Remove rare and common tokens.\n",
    "\n",
    "from gensim.corpora import Dictionary\n",
    "\n",
    "# Create a dictionary representation of the documents.\n",
    "dictionary = Dictionary(docs)\n",
    "\n",
    "# Filter out words that occur less than 20 documents, or more than 50% of the documents.\n",
    "dictionary.filter_extremes(no_below=20, no_above=0.5)\n",
    "dictionary.save('nyc_lda.dic')\n",
    "\n",
    "with open(r\"docs.pickle\", \"wb\") as output_file:\n",
    "    cPickle.dump(docs, output_file)"
   ]
  },
  {
   "cell_type": "markdown",
   "metadata": {},
   "source": [
    "# Vectorizing documents, and save the corpus"
   ]
  },
  {
   "cell_type": "code",
   "execution_count": 113,
   "metadata": {
    "collapsed": false
   },
   "outputs": [],
   "source": [
    "\n",
    "# Vectorize data.\n",
    "\n",
    "# Bag-of-words representation of the documents.\n",
    "corpus = [dictionary.doc2bow(doc) for doc in docs]\n",
    "\n",
    "with open(r\"corpus.pickle\", \"wb\") as output_file:\n",
    "    cPickle.dump(corpus, output_file)"
   ]
  },
  {
   "cell_type": "code",
   "execution_count": 114,
   "metadata": {
    "collapsed": true
   },
   "outputs": [],
   "source": [
    "print('Number of unique tokens: %d' % len(dictionary))\n",
    "print('Number of documents: %d' % len(corpus))"
   ]
  },
  {
   "cell_type": "markdown",
   "metadata": {},
   "source": [
    "# Train and Save the LDA model"
   ]
  },
  {
   "cell_type": "code",
   "execution_count": 115,
   "metadata": {
    "collapsed": false
   },
   "outputs": [],
   "source": [
    "# Train LDA model.\n",
    "\n",
    "from gensim.models import LdaModel\n",
    "\n",
    "# Set training parameters.\n",
    "num_topics = 10\n",
    "chunksize = 2000\n",
    "passes = 20\n",
    "iterations = 400\n",
    "eval_every = None  # Don't evaluate model perplexity, takes too much time.\n",
    "\n",
    "# Make a index to word dictionary.\n",
    "temp = dictionary[0]  # This is only to \"load\" the dictionary.\n",
    "id2word = dictionary.id2token\n",
    "\n",
    "%time model = LdaModel(corpus=corpus, id2word=id2word, chunksize=chunksize, \\\n",
    "                       alpha='auto', eta='auto', \\\n",
    "                       iterations=iterations, num_topics=num_topics, \\\n",
    "                       passes=passes, eval_every=eval_every)\n",
    "\n",
    "model.save('lda.pkl')"
   ]
  },
  {
   "cell_type": "markdown",
   "metadata": {},
   "source": [
    "# High frequent words in each topic"
   ]
  },
  {
   "cell_type": "code",
   "execution_count": 116,
   "metadata": {
    "collapsed": false
   },
   "outputs": [
    {
     "data": {
      "text/html": [
       "<div>\n",
       "<table border=\"1\" class=\"dataframe\">\n",
       "  <thead>\n",
       "    <tr style=\"text-align: right;\">\n",
       "      <th></th>\n",
       "      <th>Topic0</th>\n",
       "      <th>Topic1</th>\n",
       "      <th>Topic2</th>\n",
       "      <th>Topic3</th>\n",
       "      <th>Topic4</th>\n",
       "      <th>Topic5</th>\n",
       "      <th>Topic6</th>\n",
       "      <th>Topic7</th>\n",
       "      <th>Topic8</th>\n",
       "      <th>Topic9</th>\n",
       "    </tr>\n",
       "  </thead>\n",
       "  <tbody>\n",
       "    <tr>\n",
       "      <th>0</th>\n",
       "      <td>\"let\"</td>\n",
       "      <td>\"recommendation\"</td>\n",
       "      <td>\"brooklyn\"</td>\n",
       "      <td>\"question\"</td>\n",
       "      <td>\"floor\"</td>\n",
       "      <td>\"sheet\"</td>\n",
       "      <td>\"west\"</td>\n",
       "      <td>\"nyc\"</td>\n",
       "      <td>\"good\"</td>\n",
       "      <td>\"walk\"</td>\n",
       "    </tr>\n",
       "    <tr>\n",
       "      <th>1</th>\n",
       "      <td>\"day\"</td>\n",
       "      <td>\"information\"</td>\n",
       "      <td>\"husband\"</td>\n",
       "      <td>\"quick\"</td>\n",
       "      <td>\"issue\"</td>\n",
       "      <td>\"fresh\"</td>\n",
       "      <td>\"pick\"</td>\n",
       "      <td>\"welcomed\"</td>\n",
       "      <td>\"time\"</td>\n",
       "      <td>\"manhattan\"</td>\n",
       "    </tr>\n",
       "    <tr>\n",
       "      <th>2</th>\n",
       "      <td>\"arrived\"</td>\n",
       "      <td>\"eat\"</td>\n",
       "      <td>\"lovely\"</td>\n",
       "      <td>\"meet\"</td>\n",
       "      <td>\"problem\"</td>\n",
       "      <td>\"fridge\"</td>\n",
       "      <td>\"easy_communicate\"</td>\n",
       "      <td>\"dog\"</td>\n",
       "      <td>\"helpful\"</td>\n",
       "      <td>\"station\"</td>\n",
       "    </tr>\n",
       "    <tr>\n",
       "      <th>3</th>\n",
       "      <td>\"late\"</td>\n",
       "      <td>\"neighborhood\"</td>\n",
       "      <td>\"home\"</td>\n",
       "      <td>\"helpful\"</td>\n",
       "      <td>\"building\"</td>\n",
       "      <td>\"coffee\"</td>\n",
       "      <td>\"east\"</td>\n",
       "      <td>\"home\"</td>\n",
       "      <td>\"wonderful\"</td>\n",
       "      <td>\"block\"</td>\n",
       "    </tr>\n",
       "    <tr>\n",
       "      <th>4</th>\n",
       "      <td>\"arrival\"</td>\n",
       "      <td>\"gave\"</td>\n",
       "      <td>\"wonderful\"</td>\n",
       "      <td>\"accommodating\"</td>\n",
       "      <td>\"little\"</td>\n",
       "      <td>\"breakfast\"</td>\n",
       "      <td>\"east_village\"</td>\n",
       "      <td>\"welcome\"</td>\n",
       "      <td>\"recommend\"</td>\n",
       "      <td>\"minute\"</td>\n",
       "    </tr>\n",
       "    <tr>\n",
       "      <th>5</th>\n",
       "      <td>\"check\"</td>\n",
       "      <td>\"bar\"</td>\n",
       "      <td>\"family\"</td>\n",
       "      <td>\"check\"</td>\n",
       "      <td>\"wasn\"</td>\n",
       "      <td>\"towel\"</td>\n",
       "      <td>\"village\"</td>\n",
       "      <td>\"feel_welcome\"</td>\n",
       "      <td>\"welcoming\"</td>\n",
       "      <td>\"subway\"</td>\n",
       "    </tr>\n",
       "    <tr>\n",
       "      <th>6</th>\n",
       "      <td>\"hour\"</td>\n",
       "      <td>\"area\"</td>\n",
       "      <td>\"loved\"</td>\n",
       "      <td>\"needed\"</td>\n",
       "      <td>\"air\"</td>\n",
       "      <td>\"tea\"</td>\n",
       "      <td>\"coordinate\"</td>\n",
       "      <td>\"felt\"</td>\n",
       "      <td>\"room\"</td>\n",
       "      <td>\"train\"</td>\n",
       "    </tr>\n",
       "    <tr>\n",
       "      <th>7</th>\n",
       "      <td>\"met\"</td>\n",
       "      <td>\"local\"</td>\n",
       "      <td>\"house\"</td>\n",
       "      <td>\"responsive\"</td>\n",
       "      <td>\"said\"</td>\n",
       "      <td>\"water\"</td>\n",
       "      <td>\"easy\"</td>\n",
       "      <td>\"cat\"</td>\n",
       "      <td>\"nice\"</td>\n",
       "      <td>\"located\"</td>\n",
       "    </tr>\n",
       "    <tr>\n",
       "      <th>8</th>\n",
       "      <td>\"flight\"</td>\n",
       "      <td>\"restaurant\"</td>\n",
       "      <td>\"beautiful\"</td>\n",
       "      <td>\"easy\"</td>\n",
       "      <td>\"door\"</td>\n",
       "      <td>\"hidden\"</td>\n",
       "      <td>\"communicate\"</td>\n",
       "      <td>\"feel\"</td>\n",
       "      <td>\"staying\"</td>\n",
       "      <td>\"location\"</td>\n",
       "    </tr>\n",
       "    <tr>\n",
       "      <th>9</th>\n",
       "      <td>\"early\"</td>\n",
       "      <td>\"provided\"</td>\n",
       "      <td>\"loft\"</td>\n",
       "      <td>\"communication\"</td>\n",
       "      <td>\"bit\"</td>\n",
       "      <td>\"provided\"</td>\n",
       "      <td>\"key\"</td>\n",
       "      <td>\"like\"</td>\n",
       "      <td>\"friendly\"</td>\n",
       "      <td>\"close\"</td>\n",
       "    </tr>\n",
       "  </tbody>\n",
       "</table>\n",
       "</div>"
      ],
      "text/plain": [
       "       Topic0             Topic1        Topic2            Topic3       Topic4  \\\n",
       "0      \"let\"   \"recommendation\"    \"brooklyn\"        \"question\"      \"floor\"    \n",
       "1       \"day\"     \"information\"     \"husband\"            \"quick\"     \"issue\"    \n",
       "2  \"arrived\"               \"eat\"     \"lovely\"            \"meet\"    \"problem\"    \n",
       "3     \"late\"     \"neighborhood\"        \"home\"         \"helpful\"   \"building\"    \n",
       "4  \"arrival\"             \"gave\"   \"wonderful\"   \"accommodating\"     \"little\"    \n",
       "5    \"check\"              \"bar\"      \"family\"           \"check\"        \"wasn\"   \n",
       "6     \"hour\"             \"area\"       \"loved\"          \"needed\"        \"air\"    \n",
       "7      \"met\"            \"local\"       \"house\"      \"responsive\"       \"said\"    \n",
       "8   \"flight\"       \"restaurant\"   \"beautiful\"            \"easy\"       \"door\"    \n",
       "9    \"early\"         \"provided\"         \"loft\"  \"communication\"        \"bit\"    \n",
       "\n",
       "         Topic5               Topic6           Topic7        Topic8  \\\n",
       "0      \"sheet\"                \"west\"           \"nyc\"        \"good\"    \n",
       "1      \"fresh\"               \"pick\"       \"welcomed\"        \"time\"    \n",
       "2      \"fridge\"  \"easy_communicate\"            \"dog\"     \"helpful\"    \n",
       "3     \"coffee\"               \"east\"           \"home\"    \"wonderful\"   \n",
       "4  \"breakfast\"       \"east_village\"        \"welcome\"   \"recommend\"    \n",
       "5      \"towel\"            \"village\"   \"feel_welcome\"   \"welcoming\"    \n",
       "6        \"tea\"         \"coordinate\"            \"felt\"       \"room\"    \n",
       "7      \"water\"               \"easy\"            \"cat\"        \"nice\"    \n",
       "8     \"hidden\"        \"communicate\"           \"feel\"     \"staying\"    \n",
       "9   \"provided\"                \"key\"           \"like\"    \"friendly\"    \n",
       "\n",
       "         Topic9  \n",
       "0       \"walk\"   \n",
       "1  \"manhattan\"   \n",
       "2    \"station\"   \n",
       "3       \"block\"  \n",
       "4     \"minute\"   \n",
       "5     \"subway\"   \n",
       "6      \"train\"   \n",
       "7    \"located\"   \n",
       "8   \"location\"   \n",
       "9      \"close\"   "
      ]
     },
     "execution_count": 116,
     "metadata": {},
     "output_type": "execute_result"
    }
   ],
   "source": [
    "model = gensim.models.LdaModel.load('lda.pkl')\n",
    "#top_topics = model.top_topics(corpus, num_words=5)\n",
    "top_topics=model.show_topics()\n",
    "# Average topic coherence is the sum of topic coherences of all topics, divided by the number of topics.\n",
    "#avg_topic_coherence = sum([t[1] for t in top_topics]) / num_topics\n",
    "#print('Average topic coherence: %.4f.' % avg_topic_coherence)\n",
    "\n",
    "topics=[]\n",
    "top_topics=model.show_topics()\n",
    "for t in top_topics:\n",
    "    topic={}\n",
    "    for chunk in t[1].split('+'):\n",
    "        topic[chunk.split('*')[1].strip(\"'\")] = float(chunk.split('*')[0])\n",
    "    topics.append(topic)\n",
    "    \n",
    "from pprint import pprint\n",
    "#pprint(top_topics)\n",
    "df_list=[]\n",
    "\n",
    "for topic in topics:\n",
    "\n",
    "    df_= pd.DataFrame([(str(k),v) for k,v in topic.iteritems() ])\n",
    "    df_.sort_values([1], ascending=False)\n",
    "    \n",
    "    df_list.append( df_[0])\n",
    "\n",
    "df = pd.concat(df_list, axis = 1)\n",
    "df.columns=[ [ 'Topic'+str(i) for i in range(len(df_list))]]\n",
    "df"
   ]
  },
  {
   "cell_type": "code",
   "execution_count": 117,
   "metadata": {
    "collapsed": false
   },
   "outputs": [
    {
     "data": {
      "text/plain": [
       "[(0, 0.055415622389523231),\n",
       " (1, 0.04706077545438378),\n",
       " (2, 0.061441294541481693),\n",
       " (3, 0.20849311155273964),\n",
       " (4, 0.051737180681578877),\n",
       " (5, 0.012986750453466487),\n",
       " (6, 0.015140501839861391),\n",
       " (7, 0.04770341642886089),\n",
       " (8, 0.46159754078241311),\n",
       " (9, 0.038423805875690956)]"
      ]
     },
     "execution_count": 117,
     "metadata": {},
     "output_type": "execute_result"
    }
   ],
   "source": [
    "model.get_document_topics(corpus[0])"
   ]
  },
  {
   "cell_type": "code",
   "execution_count": null,
   "metadata": {
    "collapsed": true
   },
   "outputs": [],
   "source": []
  }
 ],
 "metadata": {
  "kernelspec": {
   "display_name": "Python 2",
   "language": "python",
   "name": "python2"
  },
  "language_info": {
   "codemirror_mode": {
    "name": "ipython",
    "version": 2
   },
   "file_extension": ".py",
   "mimetype": "text/x-python",
   "name": "python",
   "nbconvert_exporter": "python",
   "pygments_lexer": "ipython2",
   "version": "2.7.10"
  }
 },
 "nbformat": 4,
 "nbformat_minor": 2
}
